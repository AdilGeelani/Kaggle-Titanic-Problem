{
 "cells": [
  {
   "cell_type": "code",
   "execution_count": 1,
   "id": "dace7f5f",
   "metadata": {},
   "outputs": [],
   "source": [
    "#Getting modules ready\n",
    "import pandas as pd\n",
    "import numpy as np\n",
    "import matplotlib.pyplot as plt\n",
    "%matplotlib inline"
   ]
  },
  {
   "cell_type": "code",
   "execution_count": 2,
   "id": "abd6121d",
   "metadata": {},
   "outputs": [],
   "source": [
    "train = pd.read_csv('train.csv')"
   ]
  },
  {
   "cell_type": "code",
   "execution_count": 3,
   "id": "ccea91a5",
   "metadata": {},
   "outputs": [
    {
     "data": {
      "text/plain": [
       "PassengerId      int64\n",
       "Survived         int64\n",
       "Pclass           int64\n",
       "Name            object\n",
       "Sex             object\n",
       "Age            float64\n",
       "SibSp            int64\n",
       "Parch            int64\n",
       "Ticket          object\n",
       "Fare           float64\n",
       "Cabin           object\n",
       "Embarked        object\n",
       "dtype: object"
      ]
     },
     "execution_count": 3,
     "metadata": {},
     "output_type": "execute_result"
    }
   ],
   "source": [
    "train.dtypes"
   ]
  },
  {
   "cell_type": "code",
   "execution_count": 4,
   "id": "34ec4c00",
   "metadata": {},
   "outputs": [
    {
     "data": {
      "text/html": [
       "<div>\n",
       "<style scoped>\n",
       "    .dataframe tbody tr th:only-of-type {\n",
       "        vertical-align: middle;\n",
       "    }\n",
       "\n",
       "    .dataframe tbody tr th {\n",
       "        vertical-align: top;\n",
       "    }\n",
       "\n",
       "    .dataframe thead th {\n",
       "        text-align: right;\n",
       "    }\n",
       "</style>\n",
       "<table border=\"1\" class=\"dataframe\">\n",
       "  <thead>\n",
       "    <tr style=\"text-align: right;\">\n",
       "      <th></th>\n",
       "      <th>PassengerId</th>\n",
       "      <th>Survived</th>\n",
       "      <th>Pclass</th>\n",
       "      <th>Name</th>\n",
       "      <th>Sex</th>\n",
       "      <th>Age</th>\n",
       "      <th>SibSp</th>\n",
       "      <th>Parch</th>\n",
       "      <th>Ticket</th>\n",
       "      <th>Fare</th>\n",
       "      <th>Cabin</th>\n",
       "      <th>Embarked</th>\n",
       "    </tr>\n",
       "  </thead>\n",
       "  <tbody>\n",
       "    <tr>\n",
       "      <th>0</th>\n",
       "      <td>1</td>\n",
       "      <td>0</td>\n",
       "      <td>3</td>\n",
       "      <td>Braund, Mr. Owen Harris</td>\n",
       "      <td>male</td>\n",
       "      <td>22.0</td>\n",
       "      <td>1</td>\n",
       "      <td>0</td>\n",
       "      <td>A/5 21171</td>\n",
       "      <td>7.2500</td>\n",
       "      <td>NaN</td>\n",
       "      <td>S</td>\n",
       "    </tr>\n",
       "    <tr>\n",
       "      <th>1</th>\n",
       "      <td>2</td>\n",
       "      <td>1</td>\n",
       "      <td>1</td>\n",
       "      <td>Cumings, Mrs. John Bradley (Florence Briggs Th...</td>\n",
       "      <td>female</td>\n",
       "      <td>38.0</td>\n",
       "      <td>1</td>\n",
       "      <td>0</td>\n",
       "      <td>PC 17599</td>\n",
       "      <td>71.2833</td>\n",
       "      <td>C85</td>\n",
       "      <td>C</td>\n",
       "    </tr>\n",
       "    <tr>\n",
       "      <th>2</th>\n",
       "      <td>3</td>\n",
       "      <td>1</td>\n",
       "      <td>3</td>\n",
       "      <td>Heikkinen, Miss. Laina</td>\n",
       "      <td>female</td>\n",
       "      <td>26.0</td>\n",
       "      <td>0</td>\n",
       "      <td>0</td>\n",
       "      <td>STON/O2. 3101282</td>\n",
       "      <td>7.9250</td>\n",
       "      <td>NaN</td>\n",
       "      <td>S</td>\n",
       "    </tr>\n",
       "    <tr>\n",
       "      <th>3</th>\n",
       "      <td>4</td>\n",
       "      <td>1</td>\n",
       "      <td>1</td>\n",
       "      <td>Futrelle, Mrs. Jacques Heath (Lily May Peel)</td>\n",
       "      <td>female</td>\n",
       "      <td>35.0</td>\n",
       "      <td>1</td>\n",
       "      <td>0</td>\n",
       "      <td>113803</td>\n",
       "      <td>53.1000</td>\n",
       "      <td>C123</td>\n",
       "      <td>S</td>\n",
       "    </tr>\n",
       "    <tr>\n",
       "      <th>4</th>\n",
       "      <td>5</td>\n",
       "      <td>0</td>\n",
       "      <td>3</td>\n",
       "      <td>Allen, Mr. William Henry</td>\n",
       "      <td>male</td>\n",
       "      <td>35.0</td>\n",
       "      <td>0</td>\n",
       "      <td>0</td>\n",
       "      <td>373450</td>\n",
       "      <td>8.0500</td>\n",
       "      <td>NaN</td>\n",
       "      <td>S</td>\n",
       "    </tr>\n",
       "  </tbody>\n",
       "</table>\n",
       "</div>"
      ],
      "text/plain": [
       "   PassengerId  Survived  Pclass  \\\n",
       "0            1         0       3   \n",
       "1            2         1       1   \n",
       "2            3         1       3   \n",
       "3            4         1       1   \n",
       "4            5         0       3   \n",
       "\n",
       "                                                Name     Sex   Age  SibSp  \\\n",
       "0                            Braund, Mr. Owen Harris    male  22.0      1   \n",
       "1  Cumings, Mrs. John Bradley (Florence Briggs Th...  female  38.0      1   \n",
       "2                             Heikkinen, Miss. Laina  female  26.0      0   \n",
       "3       Futrelle, Mrs. Jacques Heath (Lily May Peel)  female  35.0      1   \n",
       "4                           Allen, Mr. William Henry    male  35.0      0   \n",
       "\n",
       "   Parch            Ticket     Fare Cabin Embarked  \n",
       "0      0         A/5 21171   7.2500   NaN        S  \n",
       "1      0          PC 17599  71.2833   C85        C  \n",
       "2      0  STON/O2. 3101282   7.9250   NaN        S  \n",
       "3      0            113803  53.1000  C123        S  \n",
       "4      0            373450   8.0500   NaN        S  "
      ]
     },
     "execution_count": 4,
     "metadata": {},
     "output_type": "execute_result"
    }
   ],
   "source": [
    "train.head()"
   ]
  },
  {
   "cell_type": "code",
   "execution_count": 5,
   "id": "8c221462",
   "metadata": {},
   "outputs": [],
   "source": [
    "# Imputing the data in age and dropping Name, Ticket, Cabin.PassengerId\n",
    "x_data = train.drop(columns=['Name', 'PassengerId', 'Ticket', 'Cabin'])"
   ]
  },
  {
   "cell_type": "code",
   "execution_count": 6,
   "id": "051d2310",
   "metadata": {},
   "outputs": [
    {
     "data": {
      "text/html": [
       "<div>\n",
       "<style scoped>\n",
       "    .dataframe tbody tr th:only-of-type {\n",
       "        vertical-align: middle;\n",
       "    }\n",
       "\n",
       "    .dataframe tbody tr th {\n",
       "        vertical-align: top;\n",
       "    }\n",
       "\n",
       "    .dataframe thead th {\n",
       "        text-align: right;\n",
       "    }\n",
       "</style>\n",
       "<table border=\"1\" class=\"dataframe\">\n",
       "  <thead>\n",
       "    <tr style=\"text-align: right;\">\n",
       "      <th></th>\n",
       "      <th>Survived</th>\n",
       "      <th>Pclass</th>\n",
       "      <th>Sex</th>\n",
       "      <th>Age</th>\n",
       "      <th>SibSp</th>\n",
       "      <th>Parch</th>\n",
       "      <th>Fare</th>\n",
       "      <th>Embarked</th>\n",
       "    </tr>\n",
       "  </thead>\n",
       "  <tbody>\n",
       "    <tr>\n",
       "      <th>0</th>\n",
       "      <td>0</td>\n",
       "      <td>3</td>\n",
       "      <td>male</td>\n",
       "      <td>22.0</td>\n",
       "      <td>1</td>\n",
       "      <td>0</td>\n",
       "      <td>7.2500</td>\n",
       "      <td>S</td>\n",
       "    </tr>\n",
       "    <tr>\n",
       "      <th>1</th>\n",
       "      <td>1</td>\n",
       "      <td>1</td>\n",
       "      <td>female</td>\n",
       "      <td>38.0</td>\n",
       "      <td>1</td>\n",
       "      <td>0</td>\n",
       "      <td>71.2833</td>\n",
       "      <td>C</td>\n",
       "    </tr>\n",
       "    <tr>\n",
       "      <th>2</th>\n",
       "      <td>1</td>\n",
       "      <td>3</td>\n",
       "      <td>female</td>\n",
       "      <td>26.0</td>\n",
       "      <td>0</td>\n",
       "      <td>0</td>\n",
       "      <td>7.9250</td>\n",
       "      <td>S</td>\n",
       "    </tr>\n",
       "    <tr>\n",
       "      <th>3</th>\n",
       "      <td>1</td>\n",
       "      <td>1</td>\n",
       "      <td>female</td>\n",
       "      <td>35.0</td>\n",
       "      <td>1</td>\n",
       "      <td>0</td>\n",
       "      <td>53.1000</td>\n",
       "      <td>S</td>\n",
       "    </tr>\n",
       "    <tr>\n",
       "      <th>4</th>\n",
       "      <td>0</td>\n",
       "      <td>3</td>\n",
       "      <td>male</td>\n",
       "      <td>35.0</td>\n",
       "      <td>0</td>\n",
       "      <td>0</td>\n",
       "      <td>8.0500</td>\n",
       "      <td>S</td>\n",
       "    </tr>\n",
       "  </tbody>\n",
       "</table>\n",
       "</div>"
      ],
      "text/plain": [
       "   Survived  Pclass     Sex   Age  SibSp  Parch     Fare Embarked\n",
       "0         0       3    male  22.0      1      0   7.2500        S\n",
       "1         1       1  female  38.0      1      0  71.2833        C\n",
       "2         1       3  female  26.0      0      0   7.9250        S\n",
       "3         1       1  female  35.0      1      0  53.1000        S\n",
       "4         0       3    male  35.0      0      0   8.0500        S"
      ]
     },
     "execution_count": 6,
     "metadata": {},
     "output_type": "execute_result"
    }
   ],
   "source": [
    "x_data.head()"
   ]
  },
  {
   "cell_type": "code",
   "execution_count": 7,
   "id": "b3d485b2",
   "metadata": {},
   "outputs": [
    {
     "data": {
      "text/plain": [
       "Survived      0\n",
       "Pclass        0\n",
       "Sex           0\n",
       "Age         177\n",
       "SibSp         0\n",
       "Parch         0\n",
       "Fare          0\n",
       "Embarked      2\n",
       "dtype: int64"
      ]
     },
     "execution_count": 7,
     "metadata": {},
     "output_type": "execute_result"
    }
   ],
   "source": [
    "x_data.isna().sum()"
   ]
  },
  {
   "cell_type": "code",
   "execution_count": 8,
   "id": "18de675c",
   "metadata": {},
   "outputs": [
    {
     "data": {
      "text/plain": [
       "Survived      0\n",
       "Pclass        0\n",
       "Sex           0\n",
       "Age         177\n",
       "SibSp         0\n",
       "Parch         0\n",
       "Fare          0\n",
       "Embarked      0\n",
       "dtype: int64"
      ]
     },
     "execution_count": 8,
     "metadata": {},
     "output_type": "execute_result"
    }
   ],
   "source": [
    "x_data.dropna(subset=[\"Embarked\"],inplace=True)\n",
    "x_data.isna().sum()"
   ]
  },
  {
   "cell_type": "code",
   "execution_count": 9,
   "id": "ac85c8a5",
   "metadata": {},
   "outputs": [
    {
     "data": {
      "text/html": [
       "<div>\n",
       "<style scoped>\n",
       "    .dataframe tbody tr th:only-of-type {\n",
       "        vertical-align: middle;\n",
       "    }\n",
       "\n",
       "    .dataframe tbody tr th {\n",
       "        vertical-align: top;\n",
       "    }\n",
       "\n",
       "    .dataframe thead th {\n",
       "        text-align: right;\n",
       "    }\n",
       "</style>\n",
       "<table border=\"1\" class=\"dataframe\">\n",
       "  <thead>\n",
       "    <tr style=\"text-align: right;\">\n",
       "      <th></th>\n",
       "      <th>Survived</th>\n",
       "      <th>Pclass</th>\n",
       "      <th>Sex</th>\n",
       "      <th>Age</th>\n",
       "      <th>SibSp</th>\n",
       "      <th>Parch</th>\n",
       "      <th>Fare</th>\n",
       "      <th>Embarked</th>\n",
       "    </tr>\n",
       "  </thead>\n",
       "  <tbody>\n",
       "    <tr>\n",
       "      <th>0</th>\n",
       "      <td>0</td>\n",
       "      <td>3</td>\n",
       "      <td>male</td>\n",
       "      <td>22.0</td>\n",
       "      <td>1</td>\n",
       "      <td>0</td>\n",
       "      <td>7.2500</td>\n",
       "      <td>S</td>\n",
       "    </tr>\n",
       "    <tr>\n",
       "      <th>1</th>\n",
       "      <td>1</td>\n",
       "      <td>1</td>\n",
       "      <td>female</td>\n",
       "      <td>38.0</td>\n",
       "      <td>1</td>\n",
       "      <td>0</td>\n",
       "      <td>71.2833</td>\n",
       "      <td>C</td>\n",
       "    </tr>\n",
       "    <tr>\n",
       "      <th>2</th>\n",
       "      <td>1</td>\n",
       "      <td>3</td>\n",
       "      <td>female</td>\n",
       "      <td>26.0</td>\n",
       "      <td>0</td>\n",
       "      <td>0</td>\n",
       "      <td>7.9250</td>\n",
       "      <td>S</td>\n",
       "    </tr>\n",
       "    <tr>\n",
       "      <th>3</th>\n",
       "      <td>1</td>\n",
       "      <td>1</td>\n",
       "      <td>female</td>\n",
       "      <td>35.0</td>\n",
       "      <td>1</td>\n",
       "      <td>0</td>\n",
       "      <td>53.1000</td>\n",
       "      <td>S</td>\n",
       "    </tr>\n",
       "    <tr>\n",
       "      <th>4</th>\n",
       "      <td>0</td>\n",
       "      <td>3</td>\n",
       "      <td>male</td>\n",
       "      <td>35.0</td>\n",
       "      <td>0</td>\n",
       "      <td>0</td>\n",
       "      <td>8.0500</td>\n",
       "      <td>S</td>\n",
       "    </tr>\n",
       "  </tbody>\n",
       "</table>\n",
       "</div>"
      ],
      "text/plain": [
       "   Survived  Pclass     Sex   Age  SibSp  Parch     Fare Embarked\n",
       "0         0       3    male  22.0      1      0   7.2500        S\n",
       "1         1       1  female  38.0      1      0  71.2833        C\n",
       "2         1       3  female  26.0      0      0   7.9250        S\n",
       "3         1       1  female  35.0      1      0  53.1000        S\n",
       "4         0       3    male  35.0      0      0   8.0500        S"
      ]
     },
     "execution_count": 9,
     "metadata": {},
     "output_type": "execute_result"
    }
   ],
   "source": [
    "x_data.head()"
   ]
  },
  {
   "cell_type": "code",
   "execution_count": 23,
   "id": "d0501be2",
   "metadata": {},
   "outputs": [
    {
     "data": {
      "text/plain": [
       "889"
      ]
     },
     "execution_count": 23,
     "metadata": {},
     "output_type": "execute_result"
    }
   ],
   "source": [
    "len(x_data)"
   ]
  },
  {
   "cell_type": "code",
   "execution_count": 24,
   "id": "412c3307",
   "metadata": {},
   "outputs": [
    {
     "data": {
      "text/plain": [
       "Pipeline(steps=[('preprocessor',\n",
       "                 ColumnTransformer(transformers=[('cat',\n",
       "                                                  Pipeline(steps=[('One_hot',\n",
       "                                                                   OneHotEncoder(handle_unknown='ignore'))]),\n",
       "                                                  ['Sex', 'Embarked']),\n",
       "                                                 ('age',\n",
       "                                                  Pipeline(steps=[('imputer',\n",
       "                                                                   SimpleImputer())]),\n",
       "                                                  ['Age'])])),\n",
       "                ('clf', RandomForestClassifier())])"
      ]
     },
     "execution_count": 24,
     "metadata": {},
     "output_type": "execute_result"
    }
   ],
   "source": [
    "# Fill the age by the mean of the ages and encode the non numeric data\n",
    "from sklearn.compose import ColumnTransformer\n",
    "from sklearn.impute import SimpleImputer\n",
    "from sklearn.preprocessing import OneHotEncoder\n",
    "from sklearn.pipeline import Pipeline\n",
    "from sklearn.ensemble import RandomForestClassifier\n",
    "from sklearn.model_selection import train_test_split, GridSearchCV\n",
    "cat_features = ['Sex','Embarked']\n",
    "cat_transformer = Pipeline([('One_hot', OneHotEncoder(handle_unknown='ignore'))])\n",
    "age_feature = [\"Age\"]\n",
    "age_transformer = Pipeline([('imputer', SimpleImputer(strategy='mean'))])\n",
    "\n",
    "# Setup preprocessing steps (fill missing values, then convert to numbers)\n",
    "\n",
    "preprocessor = ColumnTransformer(transformers=[\n",
    "                                ('cat',cat_transformer,cat_features),\n",
    "                                ('age',age_transformer,age_feature)])\n",
    "# Create a preprocessing and modelling pipeline\n",
    "clf = Pipeline(steps=[\n",
    "    ('preprocessor', preprocessor),\n",
    "    ('clf', RandomForestClassifier())\n",
    "])\n",
    "# splitting the x_data in train and test\n",
    "x = x_data.drop('Survived',axis =1)\n",
    "y = x_data['Survived']\n",
    "x_train,x_test,y_train,y_test = train_test_split(x, y, test_size=0.2)\n",
    "clf.fit(x_train, y_train)"
   ]
  },
  {
   "cell_type": "code",
   "execution_count": 25,
   "id": "4a15c99a",
   "metadata": {},
   "outputs": [
    {
     "data": {
      "text/plain": [
       "0.7303370786516854"
      ]
     },
     "execution_count": 25,
     "metadata": {},
     "output_type": "execute_result"
    }
   ],
   "source": [
    "clf.score(x_test,y_test)"
   ]
  },
  {
   "cell_type": "code",
   "execution_count": 26,
   "id": "86188f20",
   "metadata": {},
   "outputs": [
    {
     "data": {
      "text/plain": [
       "dict_keys(['memory', 'steps', 'verbose', 'preprocessor', 'clf', 'preprocessor__n_jobs', 'preprocessor__remainder', 'preprocessor__sparse_threshold', 'preprocessor__transformer_weights', 'preprocessor__transformers', 'preprocessor__verbose', 'preprocessor__verbose_feature_names_out', 'preprocessor__cat', 'preprocessor__age', 'preprocessor__cat__memory', 'preprocessor__cat__steps', 'preprocessor__cat__verbose', 'preprocessor__cat__One_hot', 'preprocessor__cat__One_hot__categories', 'preprocessor__cat__One_hot__drop', 'preprocessor__cat__One_hot__dtype', 'preprocessor__cat__One_hot__handle_unknown', 'preprocessor__cat__One_hot__sparse', 'preprocessor__age__memory', 'preprocessor__age__steps', 'preprocessor__age__verbose', 'preprocessor__age__imputer', 'preprocessor__age__imputer__add_indicator', 'preprocessor__age__imputer__copy', 'preprocessor__age__imputer__fill_value', 'preprocessor__age__imputer__missing_values', 'preprocessor__age__imputer__strategy', 'preprocessor__age__imputer__verbose', 'clf__bootstrap', 'clf__ccp_alpha', 'clf__class_weight', 'clf__criterion', 'clf__max_depth', 'clf__max_features', 'clf__max_leaf_nodes', 'clf__max_samples', 'clf__min_impurity_decrease', 'clf__min_samples_leaf', 'clf__min_samples_split', 'clf__min_weight_fraction_leaf', 'clf__n_estimators', 'clf__n_jobs', 'clf__oob_score', 'clf__random_state', 'clf__verbose', 'clf__warm_start'])"
      ]
     },
     "execution_count": 26,
     "metadata": {},
     "output_type": "execute_result"
    }
   ],
   "source": [
    "clf.get_params().keys()"
   ]
  },
  {
   "cell_type": "code",
   "execution_count": 27,
   "id": "ed10c167",
   "metadata": {},
   "outputs": [
    {
     "name": "stdout",
     "output_type": "stream",
     "text": [
      "Fitting 5 folds for each of 16 candidates, totalling 80 fits\n",
      "[CV] END clf__max_depth=None, clf__max_features=auto, clf__min_samples_split=2, clf__n_estimators=100; total time=   0.0s\n",
      "[CV] END clf__max_depth=None, clf__max_features=auto, clf__min_samples_split=2, clf__n_estimators=100; total time=   0.0s\n",
      "[CV] END clf__max_depth=None, clf__max_features=auto, clf__min_samples_split=2, clf__n_estimators=100; total time=   0.0s\n",
      "[CV] END clf__max_depth=None, clf__max_features=auto, clf__min_samples_split=2, clf__n_estimators=100; total time=   0.0s\n",
      "[CV] END clf__max_depth=None, clf__max_features=auto, clf__min_samples_split=2, clf__n_estimators=100; total time=   0.0s\n",
      "[CV] END clf__max_depth=None, clf__max_features=auto, clf__min_samples_split=2, clf__n_estimators=1000; total time=   1.0s\n",
      "[CV] END clf__max_depth=None, clf__max_features=auto, clf__min_samples_split=2, clf__n_estimators=1000; total time=   1.0s\n",
      "[CV] END clf__max_depth=None, clf__max_features=auto, clf__min_samples_split=2, clf__n_estimators=1000; total time=   1.0s\n",
      "[CV] END clf__max_depth=None, clf__max_features=auto, clf__min_samples_split=2, clf__n_estimators=1000; total time=   1.1s\n",
      "[CV] END clf__max_depth=None, clf__max_features=auto, clf__min_samples_split=2, clf__n_estimators=1000; total time=   1.1s\n",
      "[CV] END clf__max_depth=None, clf__max_features=auto, clf__min_samples_split=4, clf__n_estimators=100; total time=   0.0s\n",
      "[CV] END clf__max_depth=None, clf__max_features=auto, clf__min_samples_split=4, clf__n_estimators=100; total time=   0.0s\n",
      "[CV] END clf__max_depth=None, clf__max_features=auto, clf__min_samples_split=4, clf__n_estimators=100; total time=   0.0s\n",
      "[CV] END clf__max_depth=None, clf__max_features=auto, clf__min_samples_split=4, clf__n_estimators=100; total time=   0.0s\n",
      "[CV] END clf__max_depth=None, clf__max_features=auto, clf__min_samples_split=4, clf__n_estimators=100; total time=   0.0s\n",
      "[CV] END clf__max_depth=None, clf__max_features=auto, clf__min_samples_split=4, clf__n_estimators=1000; total time=   1.0s\n",
      "[CV] END clf__max_depth=None, clf__max_features=auto, clf__min_samples_split=4, clf__n_estimators=1000; total time=   1.1s\n",
      "[CV] END clf__max_depth=None, clf__max_features=auto, clf__min_samples_split=4, clf__n_estimators=1000; total time=   1.1s\n",
      "[CV] END clf__max_depth=None, clf__max_features=auto, clf__min_samples_split=4, clf__n_estimators=1000; total time=   1.0s\n",
      "[CV] END clf__max_depth=None, clf__max_features=auto, clf__min_samples_split=4, clf__n_estimators=1000; total time=   1.0s\n",
      "[CV] END clf__max_depth=None, clf__max_features=sqrt, clf__min_samples_split=2, clf__n_estimators=100; total time=   0.0s\n",
      "[CV] END clf__max_depth=None, clf__max_features=sqrt, clf__min_samples_split=2, clf__n_estimators=100; total time=   0.0s\n",
      "[CV] END clf__max_depth=None, clf__max_features=sqrt, clf__min_samples_split=2, clf__n_estimators=100; total time=   0.0s\n",
      "[CV] END clf__max_depth=None, clf__max_features=sqrt, clf__min_samples_split=2, clf__n_estimators=100; total time=   0.0s\n",
      "[CV] END clf__max_depth=None, clf__max_features=sqrt, clf__min_samples_split=2, clf__n_estimators=100; total time=   0.0s\n",
      "[CV] END clf__max_depth=None, clf__max_features=sqrt, clf__min_samples_split=2, clf__n_estimators=1000; total time=   1.1s\n",
      "[CV] END clf__max_depth=None, clf__max_features=sqrt, clf__min_samples_split=2, clf__n_estimators=1000; total time=   1.0s\n",
      "[CV] END clf__max_depth=None, clf__max_features=sqrt, clf__min_samples_split=2, clf__n_estimators=1000; total time=   1.0s\n",
      "[CV] END clf__max_depth=None, clf__max_features=sqrt, clf__min_samples_split=2, clf__n_estimators=1000; total time=   1.0s\n",
      "[CV] END clf__max_depth=None, clf__max_features=sqrt, clf__min_samples_split=2, clf__n_estimators=1000; total time=   1.0s\n",
      "[CV] END clf__max_depth=None, clf__max_features=sqrt, clf__min_samples_split=4, clf__n_estimators=100; total time=   0.0s\n",
      "[CV] END clf__max_depth=None, clf__max_features=sqrt, clf__min_samples_split=4, clf__n_estimators=100; total time=   0.0s\n",
      "[CV] END clf__max_depth=None, clf__max_features=sqrt, clf__min_samples_split=4, clf__n_estimators=100; total time=   0.0s\n",
      "[CV] END clf__max_depth=None, clf__max_features=sqrt, clf__min_samples_split=4, clf__n_estimators=100; total time=   0.0s\n",
      "[CV] END clf__max_depth=None, clf__max_features=sqrt, clf__min_samples_split=4, clf__n_estimators=100; total time=   0.0s\n",
      "[CV] END clf__max_depth=None, clf__max_features=sqrt, clf__min_samples_split=4, clf__n_estimators=1000; total time=   1.0s\n",
      "[CV] END clf__max_depth=None, clf__max_features=sqrt, clf__min_samples_split=4, clf__n_estimators=1000; total time=   1.0s\n",
      "[CV] END clf__max_depth=None, clf__max_features=sqrt, clf__min_samples_split=4, clf__n_estimators=1000; total time=   1.0s\n",
      "[CV] END clf__max_depth=None, clf__max_features=sqrt, clf__min_samples_split=4, clf__n_estimators=1000; total time=   1.1s\n",
      "[CV] END clf__max_depth=None, clf__max_features=sqrt, clf__min_samples_split=4, clf__n_estimators=1000; total time=   1.0s\n",
      "[CV] END clf__max_depth=5, clf__max_features=auto, clf__min_samples_split=2, clf__n_estimators=100; total time=   0.0s\n",
      "[CV] END clf__max_depth=5, clf__max_features=auto, clf__min_samples_split=2, clf__n_estimators=100; total time=   0.0s\n",
      "[CV] END clf__max_depth=5, clf__max_features=auto, clf__min_samples_split=2, clf__n_estimators=100; total time=   0.0s\n",
      "[CV] END clf__max_depth=5, clf__max_features=auto, clf__min_samples_split=2, clf__n_estimators=100; total time=   0.0s\n",
      "[CV] END clf__max_depth=5, clf__max_features=auto, clf__min_samples_split=2, clf__n_estimators=100; total time=   0.0s\n",
      "[CV] END clf__max_depth=5, clf__max_features=auto, clf__min_samples_split=2, clf__n_estimators=1000; total time=   0.9s\n",
      "[CV] END clf__max_depth=5, clf__max_features=auto, clf__min_samples_split=2, clf__n_estimators=1000; total time=   1.0s\n",
      "[CV] END clf__max_depth=5, clf__max_features=auto, clf__min_samples_split=2, clf__n_estimators=1000; total time=   0.9s\n",
      "[CV] END clf__max_depth=5, clf__max_features=auto, clf__min_samples_split=2, clf__n_estimators=1000; total time=   0.9s\n",
      "[CV] END clf__max_depth=5, clf__max_features=auto, clf__min_samples_split=2, clf__n_estimators=1000; total time=   0.9s\n",
      "[CV] END clf__max_depth=5, clf__max_features=auto, clf__min_samples_split=4, clf__n_estimators=100; total time=   0.0s\n",
      "[CV] END clf__max_depth=5, clf__max_features=auto, clf__min_samples_split=4, clf__n_estimators=100; total time=   0.0s\n",
      "[CV] END clf__max_depth=5, clf__max_features=auto, clf__min_samples_split=4, clf__n_estimators=100; total time=   0.0s\n",
      "[CV] END clf__max_depth=5, clf__max_features=auto, clf__min_samples_split=4, clf__n_estimators=100; total time=   0.0s\n",
      "[CV] END clf__max_depth=5, clf__max_features=auto, clf__min_samples_split=4, clf__n_estimators=100; total time=   0.0s\n",
      "[CV] END clf__max_depth=5, clf__max_features=auto, clf__min_samples_split=4, clf__n_estimators=1000; total time=   0.9s\n",
      "[CV] END clf__max_depth=5, clf__max_features=auto, clf__min_samples_split=4, clf__n_estimators=1000; total time=   0.9s\n",
      "[CV] END clf__max_depth=5, clf__max_features=auto, clf__min_samples_split=4, clf__n_estimators=1000; total time=   1.0s\n",
      "[CV] END clf__max_depth=5, clf__max_features=auto, clf__min_samples_split=4, clf__n_estimators=1000; total time=   1.0s\n",
      "[CV] END clf__max_depth=5, clf__max_features=auto, clf__min_samples_split=4, clf__n_estimators=1000; total time=   0.9s\n",
      "[CV] END clf__max_depth=5, clf__max_features=sqrt, clf__min_samples_split=2, clf__n_estimators=100; total time=   0.0s\n",
      "[CV] END clf__max_depth=5, clf__max_features=sqrt, clf__min_samples_split=2, clf__n_estimators=100; total time=   0.0s\n",
      "[CV] END clf__max_depth=5, clf__max_features=sqrt, clf__min_samples_split=2, clf__n_estimators=100; total time=   0.0s\n",
      "[CV] END clf__max_depth=5, clf__max_features=sqrt, clf__min_samples_split=2, clf__n_estimators=100; total time=   0.0s\n",
      "[CV] END clf__max_depth=5, clf__max_features=sqrt, clf__min_samples_split=2, clf__n_estimators=100; total time=   0.0s\n",
      "[CV] END clf__max_depth=5, clf__max_features=sqrt, clf__min_samples_split=2, clf__n_estimators=1000; total time=   0.9s\n",
      "[CV] END clf__max_depth=5, clf__max_features=sqrt, clf__min_samples_split=2, clf__n_estimators=1000; total time=   0.9s\n",
      "[CV] END clf__max_depth=5, clf__max_features=sqrt, clf__min_samples_split=2, clf__n_estimators=1000; total time=   1.0s\n"
     ]
    },
    {
     "name": "stdout",
     "output_type": "stream",
     "text": [
      "[CV] END clf__max_depth=5, clf__max_features=sqrt, clf__min_samples_split=2, clf__n_estimators=1000; total time=   1.0s\n",
      "[CV] END clf__max_depth=5, clf__max_features=sqrt, clf__min_samples_split=2, clf__n_estimators=1000; total time=   1.0s\n",
      "[CV] END clf__max_depth=5, clf__max_features=sqrt, clf__min_samples_split=4, clf__n_estimators=100; total time=   0.0s\n",
      "[CV] END clf__max_depth=5, clf__max_features=sqrt, clf__min_samples_split=4, clf__n_estimators=100; total time=   0.0s\n",
      "[CV] END clf__max_depth=5, clf__max_features=sqrt, clf__min_samples_split=4, clf__n_estimators=100; total time=   0.0s\n",
      "[CV] END clf__max_depth=5, clf__max_features=sqrt, clf__min_samples_split=4, clf__n_estimators=100; total time=   0.0s\n",
      "[CV] END clf__max_depth=5, clf__max_features=sqrt, clf__min_samples_split=4, clf__n_estimators=100; total time=   0.0s\n",
      "[CV] END clf__max_depth=5, clf__max_features=sqrt, clf__min_samples_split=4, clf__n_estimators=1000; total time=   0.9s\n",
      "[CV] END clf__max_depth=5, clf__max_features=sqrt, clf__min_samples_split=4, clf__n_estimators=1000; total time=   1.0s\n",
      "[CV] END clf__max_depth=5, clf__max_features=sqrt, clf__min_samples_split=4, clf__n_estimators=1000; total time=   1.0s\n",
      "[CV] END clf__max_depth=5, clf__max_features=sqrt, clf__min_samples_split=4, clf__n_estimators=1000; total time=   1.0s\n",
      "[CV] END clf__max_depth=5, clf__max_features=sqrt, clf__min_samples_split=4, clf__n_estimators=1000; total time=   1.1s\n"
     ]
    },
    {
     "data": {
      "text/plain": [
       "GridSearchCV(cv=5,\n",
       "             estimator=Pipeline(steps=[('preprocessor',\n",
       "                                        ColumnTransformer(transformers=[('cat',\n",
       "                                                                         Pipeline(steps=[('One_hot',\n",
       "                                                                                          OneHotEncoder(handle_unknown='ignore'))]),\n",
       "                                                                         ['Sex',\n",
       "                                                                          'Embarked']),\n",
       "                                                                        ('age',\n",
       "                                                                         Pipeline(steps=[('imputer',\n",
       "                                                                                          SimpleImputer())]),\n",
       "                                                                         ['Age'])])),\n",
       "                                       ('clf', RandomForestClassifier())]),\n",
       "             param_grid={'clf__max_depth': [None, 5],\n",
       "                         'clf__max_features': ['auto', 'sqrt'],\n",
       "                         'clf__min_samples_split': [2, 4],\n",
       "                         'clf__n_estimators': [100, 1000]},\n",
       "             verbose=2)"
      ]
     },
     "execution_count": 27,
     "metadata": {},
     "output_type": "execute_result"
    }
   ],
   "source": [
    "# Doing Evaluation using GridSearchCV\n",
    "pipe_grid = {\n",
    "    'clf__n_estimators': [100,1000],\n",
    "    'clf__max_depth': [None, 5],\n",
    "    'clf__max_features' : ['auto', 'sqrt'],\n",
    "    'clf__min_samples_split':[2, 4]\n",
    "}\n",
    "gs_clf = GridSearchCV(clf, \n",
    "                        pipe_grid,\n",
    "                        cv =5,\n",
    "                       verbose=2)\n",
    "gs_clf.fit(x_train, y_train)"
   ]
  },
  {
   "cell_type": "code",
   "execution_count": 28,
   "id": "a9631352",
   "metadata": {},
   "outputs": [
    {
     "data": {
      "text/plain": [
       "0.8258426966292135"
      ]
     },
     "execution_count": 28,
     "metadata": {},
     "output_type": "execute_result"
    }
   ],
   "source": [
    "gs_clf.score(x_test, y_test)"
   ]
  },
  {
   "cell_type": "code",
   "execution_count": 29,
   "id": "50a13981",
   "metadata": {},
   "outputs": [],
   "source": [
    "# getting the values for test data set\n",
    "test = pd.read_csv('test.csv')"
   ]
  },
  {
   "cell_type": "code",
   "execution_count": 30,
   "id": "e0c9398b",
   "metadata": {},
   "outputs": [
    {
     "data": {
      "text/html": [
       "<div>\n",
       "<style scoped>\n",
       "    .dataframe tbody tr th:only-of-type {\n",
       "        vertical-align: middle;\n",
       "    }\n",
       "\n",
       "    .dataframe tbody tr th {\n",
       "        vertical-align: top;\n",
       "    }\n",
       "\n",
       "    .dataframe thead th {\n",
       "        text-align: right;\n",
       "    }\n",
       "</style>\n",
       "<table border=\"1\" class=\"dataframe\">\n",
       "  <thead>\n",
       "    <tr style=\"text-align: right;\">\n",
       "      <th></th>\n",
       "      <th>PassengerId</th>\n",
       "      <th>Pclass</th>\n",
       "      <th>Name</th>\n",
       "      <th>Sex</th>\n",
       "      <th>Age</th>\n",
       "      <th>SibSp</th>\n",
       "      <th>Parch</th>\n",
       "      <th>Ticket</th>\n",
       "      <th>Fare</th>\n",
       "      <th>Cabin</th>\n",
       "      <th>Embarked</th>\n",
       "    </tr>\n",
       "  </thead>\n",
       "  <tbody>\n",
       "    <tr>\n",
       "      <th>0</th>\n",
       "      <td>892</td>\n",
       "      <td>3</td>\n",
       "      <td>Kelly, Mr. James</td>\n",
       "      <td>male</td>\n",
       "      <td>34.5</td>\n",
       "      <td>0</td>\n",
       "      <td>0</td>\n",
       "      <td>330911</td>\n",
       "      <td>7.8292</td>\n",
       "      <td>NaN</td>\n",
       "      <td>Q</td>\n",
       "    </tr>\n",
       "    <tr>\n",
       "      <th>1</th>\n",
       "      <td>893</td>\n",
       "      <td>3</td>\n",
       "      <td>Wilkes, Mrs. James (Ellen Needs)</td>\n",
       "      <td>female</td>\n",
       "      <td>47.0</td>\n",
       "      <td>1</td>\n",
       "      <td>0</td>\n",
       "      <td>363272</td>\n",
       "      <td>7.0000</td>\n",
       "      <td>NaN</td>\n",
       "      <td>S</td>\n",
       "    </tr>\n",
       "    <tr>\n",
       "      <th>2</th>\n",
       "      <td>894</td>\n",
       "      <td>2</td>\n",
       "      <td>Myles, Mr. Thomas Francis</td>\n",
       "      <td>male</td>\n",
       "      <td>62.0</td>\n",
       "      <td>0</td>\n",
       "      <td>0</td>\n",
       "      <td>240276</td>\n",
       "      <td>9.6875</td>\n",
       "      <td>NaN</td>\n",
       "      <td>Q</td>\n",
       "    </tr>\n",
       "    <tr>\n",
       "      <th>3</th>\n",
       "      <td>895</td>\n",
       "      <td>3</td>\n",
       "      <td>Wirz, Mr. Albert</td>\n",
       "      <td>male</td>\n",
       "      <td>27.0</td>\n",
       "      <td>0</td>\n",
       "      <td>0</td>\n",
       "      <td>315154</td>\n",
       "      <td>8.6625</td>\n",
       "      <td>NaN</td>\n",
       "      <td>S</td>\n",
       "    </tr>\n",
       "    <tr>\n",
       "      <th>4</th>\n",
       "      <td>896</td>\n",
       "      <td>3</td>\n",
       "      <td>Hirvonen, Mrs. Alexander (Helga E Lindqvist)</td>\n",
       "      <td>female</td>\n",
       "      <td>22.0</td>\n",
       "      <td>1</td>\n",
       "      <td>1</td>\n",
       "      <td>3101298</td>\n",
       "      <td>12.2875</td>\n",
       "      <td>NaN</td>\n",
       "      <td>S</td>\n",
       "    </tr>\n",
       "  </tbody>\n",
       "</table>\n",
       "</div>"
      ],
      "text/plain": [
       "   PassengerId  Pclass                                          Name     Sex  \\\n",
       "0          892       3                              Kelly, Mr. James    male   \n",
       "1          893       3              Wilkes, Mrs. James (Ellen Needs)  female   \n",
       "2          894       2                     Myles, Mr. Thomas Francis    male   \n",
       "3          895       3                              Wirz, Mr. Albert    male   \n",
       "4          896       3  Hirvonen, Mrs. Alexander (Helga E Lindqvist)  female   \n",
       "\n",
       "    Age  SibSp  Parch   Ticket     Fare Cabin Embarked  \n",
       "0  34.5      0      0   330911   7.8292   NaN        Q  \n",
       "1  47.0      1      0   363272   7.0000   NaN        S  \n",
       "2  62.0      0      0   240276   9.6875   NaN        Q  \n",
       "3  27.0      0      0   315154   8.6625   NaN        S  \n",
       "4  22.0      1      1  3101298  12.2875   NaN        S  "
      ]
     },
     "execution_count": 30,
     "metadata": {},
     "output_type": "execute_result"
    }
   ],
   "source": [
    "test.head()"
   ]
  },
  {
   "cell_type": "code",
   "execution_count": 31,
   "id": "efbb90a9",
   "metadata": {},
   "outputs": [],
   "source": [
    "y_preds = gs_clf.predict(test)"
   ]
  },
  {
   "cell_type": "code",
   "execution_count": 32,
   "id": "1f1413e8",
   "metadata": {},
   "outputs": [],
   "source": [
    "y_preds = pd.DataFrame(y_preds)"
   ]
  },
  {
   "cell_type": "code",
   "execution_count": 46,
   "id": "ccb1486d",
   "metadata": {},
   "outputs": [
    {
     "data": {
      "text/plain": [
       "0       892\n",
       "1       893\n",
       "2       894\n",
       "3       895\n",
       "4       896\n",
       "       ... \n",
       "413    1305\n",
       "414    1306\n",
       "415    1307\n",
       "416    1308\n",
       "417    1309\n",
       "Name: PassengerId, Length: 418, dtype: int64"
      ]
     },
     "execution_count": 46,
     "metadata": {},
     "output_type": "execute_result"
    }
   ],
   "source": [
    "PassengerId = test[\"PassengerId\"]\n",
    "PassengerId"
   ]
  },
  {
   "cell_type": "code",
   "execution_count": 52,
   "id": "32e3227b",
   "metadata": {},
   "outputs": [],
   "source": [
    "submission = pd.DataFrame({'PassengerId': PassengerId})\n",
    "\n",
    "submission[\"Survived\"] = y_preds"
   ]
  },
  {
   "cell_type": "code",
   "execution_count": 53,
   "id": "17c7be16",
   "metadata": {},
   "outputs": [
    {
     "data": {
      "text/html": [
       "<div>\n",
       "<style scoped>\n",
       "    .dataframe tbody tr th:only-of-type {\n",
       "        vertical-align: middle;\n",
       "    }\n",
       "\n",
       "    .dataframe tbody tr th {\n",
       "        vertical-align: top;\n",
       "    }\n",
       "\n",
       "    .dataframe thead th {\n",
       "        text-align: right;\n",
       "    }\n",
       "</style>\n",
       "<table border=\"1\" class=\"dataframe\">\n",
       "  <thead>\n",
       "    <tr style=\"text-align: right;\">\n",
       "      <th></th>\n",
       "      <th>PassengerId</th>\n",
       "      <th>Survived</th>\n",
       "    </tr>\n",
       "  </thead>\n",
       "  <tbody>\n",
       "    <tr>\n",
       "      <th>0</th>\n",
       "      <td>892</td>\n",
       "      <td>0</td>\n",
       "    </tr>\n",
       "    <tr>\n",
       "      <th>1</th>\n",
       "      <td>893</td>\n",
       "      <td>1</td>\n",
       "    </tr>\n",
       "    <tr>\n",
       "      <th>2</th>\n",
       "      <td>894</td>\n",
       "      <td>0</td>\n",
       "    </tr>\n",
       "    <tr>\n",
       "      <th>3</th>\n",
       "      <td>895</td>\n",
       "      <td>0</td>\n",
       "    </tr>\n",
       "    <tr>\n",
       "      <th>4</th>\n",
       "      <td>896</td>\n",
       "      <td>1</td>\n",
       "    </tr>\n",
       "  </tbody>\n",
       "</table>\n",
       "</div>"
      ],
      "text/plain": [
       "   PassengerId  Survived\n",
       "0          892         0\n",
       "1          893         1\n",
       "2          894         0\n",
       "3          895         0\n",
       "4          896         1"
      ]
     },
     "execution_count": 53,
     "metadata": {},
     "output_type": "execute_result"
    }
   ],
   "source": [
    "submission.head()\n"
   ]
  },
  {
   "cell_type": "code",
   "execution_count": 54,
   "id": "20973274",
   "metadata": {},
   "outputs": [],
   "source": [
    "submission.to_csv('submission2.csv', index = False)"
   ]
  },
  {
   "cell_type": "code",
   "execution_count": null,
   "id": "2418d73b",
   "metadata": {},
   "outputs": [],
   "source": []
  }
 ],
 "metadata": {
  "kernelspec": {
   "display_name": "Python 3 (ipykernel)",
   "language": "python",
   "name": "python3"
  },
  "language_info": {
   "codemirror_mode": {
    "name": "ipython",
    "version": 3
   },
   "file_extension": ".py",
   "mimetype": "text/x-python",
   "name": "python",
   "nbconvert_exporter": "python",
   "pygments_lexer": "ipython3",
   "version": "3.9.7"
  }
 },
 "nbformat": 4,
 "nbformat_minor": 5
}
